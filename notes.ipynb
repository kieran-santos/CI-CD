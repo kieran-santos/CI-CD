{
 "cells": [
  {
   "cell_type": "markdown",
   "id": "14f4ceaf",
   "metadata": {},
   "source": [
    "02/09/2025\n",
    "\n",
    "<font color=\"magenta\">CLONING REPO AND PUSHING NEW FILES</font>\n",
    "* We are using WSL ubuntu terminal to connect our repo</br >\n",
    "* WSL is a emulator for Linux</br >\n",
    "&emsp;&emsp;1. git clone \"github repo\"</br >\n",
    "&emsp;&emsp;2. git add . (to add new changes)\n",
    "&emsp;&emsp;3. git commit -m</br >\n",
    "&emsp;&emsp;4. git push (to send changes)</br >\n",
    "* Git push will ask for github login but will not allow to use password</br >\n",
    "* So we need to generate a PAT to use as password or use VS Code Source Control to make our first git push through VS Code</br >\n",
    "    - Source Control -> Manage Unsafe Repositories -> select the repo -> write the message -> Commit</br >\n",
    "* We'll use Vercel for deploy - we can't use it for backend because it's paid</br ></br >\n",
    "\n",
    "<font color=\"magenta\">BUILDING THROUGH GITHUB SERVER AND VERCEL</font>\n",
    "* It's free for a few hours, but since our projects will be small it'll be free</br >\n",
    "* We'll learn how to use Github Action</br >\n",
    "* Access token for Vercer: 9NJ3A4A5trRz47lo6G9ZVsmq</br >\n",
    "* We use this token on Github</br >\n",
    "&emsp;&emsp;1. Repo settings</br >\n",
    "&emsp;&emsp;2. Secrets and Variables</br >\n",
    "&emsp;&emsp;3. Actions</br >\n",
    "&emsp;&emsp;4. New Repository secret</br >\n",
    "&emsp;&emsp;5. VERCEL_TOKEN for name and add the token</br >\n",
    "&emsp;&emsp;6. Criar as pastas .github/workflows/ e o arquivo deploy-vercel.yml</br >\n",
    "* When we commit it goes to the Github repo and through vercel it deploys to production</br >\n",
    "* The right way to deploy to prod is through a Docker image, but we'll see that next week"
   ]
  },
  {
   "cell_type": "markdown",
   "id": "2734ae86",
   "metadata": {},
   "source": []
  }
 ],
 "metadata": {
  "language_info": {
   "name": "python"
  }
 },
 "nbformat": 4,
 "nbformat_minor": 5
}
